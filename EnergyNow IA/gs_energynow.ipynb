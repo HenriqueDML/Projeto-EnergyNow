{
 "cells": [
  {
   "cell_type": "markdown",
   "metadata": {},
   "source": [
    "\n",
    "# Global Solution - Energy Now\n",
    "\n",
    "\n",
    "Equipe\n",
    "\n",
    "RM: 558062 - NOME: Henrique Francisco Garcia \n",
    "\n",
    "RM: 554970 - NOME: Arthur Tavares Arraes \n",
    "\n",
    "RM: 555152 - NOME: Willian Moreira Brito Farias Pinto \n",
    "\n",
    "\n",
    "\n"
   ]
  },
  {
   "cell_type": "markdown",
   "metadata": {},
   "source": [
    "### Passo 1 - Importar as Bibliotecas\n",
    "Aqui estamos importando as bibliotecas que serão utilizadas."
   ]
  },
  {
   "cell_type": "code",
   "execution_count": 1,
   "metadata": {},
   "outputs": [],
   "source": [
    "\n",
    "import pandas as pd\n",
    "import numpy as np\n",
    "from sklearn.model_selection import train_test_split\n",
    "from sklearn.preprocessing import StandardScaler\n",
    "from sklearn.linear_model import LinearRegression\n",
    "from sklearn.tree import DecisionTreeClassifier\n",
    "from sklearn.feature_extraction.text import TfidfVectorizer\n",
    "from sklearn.metrics import mean_squared_error, r2_score, classification_report, accuracy_score\n",
    "from sklearn.pipeline import Pipeline\n",
    "import joblib"
   ]
  },
  {
   "cell_type": "markdown",
   "metadata": {},
   "source": [
    "### Passo 2\n",
    "\n",
    "Aqui vamos carregar o dataset escolhido, aproveitando para ver um pouco sobre seus dados.\n",
    "\n",
    "E fazendo um pequeno tratamento para que ele seja separado por colunas e linhas."
   ]
  },
  {
   "cell_type": "code",
   "execution_count": 2,
   "metadata": {},
   "outputs": [
    {
     "data": {
      "text/html": [
       "<div>\n",
       "<style scoped>\n",
       "    .dataframe tbody tr th:only-of-type {\n",
       "        vertical-align: middle;\n",
       "    }\n",
       "\n",
       "    .dataframe tbody tr th {\n",
       "        vertical-align: top;\n",
       "    }\n",
       "\n",
       "    .dataframe thead th {\n",
       "        text-align: right;\n",
       "    }\n",
       "</style>\n",
       "<table border=\"1\" class=\"dataframe\">\n",
       "  <thead>\n",
       "    <tr style=\"text-align: right;\">\n",
       "      <th></th>\n",
       "      <th>Regiao</th>\n",
       "      <th>Consumo</th>\n",
       "      <th>Tipo_Energia</th>\n",
       "      <th>Investimento</th>\n",
       "      <th>Area</th>\n",
       "      <th>Incentivo_Gov</th>\n",
       "      <th>Taxa_Adocao</th>\n",
       "      <th>Tempo_Instalacao</th>\n",
       "      <th>Custo_Manutencao</th>\n",
       "      <th>Familias_Atendidas</th>\n",
       "      <th>Reducoes_CO2</th>\n",
       "      <th>Vida_Util</th>\n",
       "      <th>Dias_Sol_Ano</th>\n",
       "      <th>Velocidade_Vento</th>\n",
       "    </tr>\n",
       "  </thead>\n",
       "  <tbody>\n",
       "    <tr>\n",
       "      <th>0</th>\n",
       "      <td>Sudeste</td>\n",
       "      <td>1160</td>\n",
       "      <td>Energia Eolica</td>\n",
       "      <td>34926</td>\n",
       "      <td>473</td>\n",
       "      <td>1</td>\n",
       "      <td>93</td>\n",
       "      <td>7</td>\n",
       "      <td>1777</td>\n",
       "      <td>1</td>\n",
       "      <td>345</td>\n",
       "      <td>16</td>\n",
       "      <td>346</td>\n",
       "      <td>9</td>\n",
       "    </tr>\n",
       "    <tr>\n",
       "      <th>1</th>\n",
       "      <td>Sul</td>\n",
       "      <td>2427</td>\n",
       "      <td>Energia Eolica</td>\n",
       "      <td>11229</td>\n",
       "      <td>68</td>\n",
       "      <td>0</td>\n",
       "      <td>22</td>\n",
       "      <td>5</td>\n",
       "      <td>1597</td>\n",
       "      <td>3</td>\n",
       "      <td>707</td>\n",
       "      <td>29</td>\n",
       "      <td>157</td>\n",
       "      <td>5</td>\n",
       "    </tr>\n",
       "    <tr>\n",
       "      <th>2</th>\n",
       "      <td>Centro-Oeste</td>\n",
       "      <td>3520</td>\n",
       "      <td>Energia Eolica</td>\n",
       "      <td>9632</td>\n",
       "      <td>67</td>\n",
       "      <td>0</td>\n",
       "      <td>68</td>\n",
       "      <td>5</td>\n",
       "      <td>836</td>\n",
       "      <td>1</td>\n",
       "      <td>64</td>\n",
       "      <td>27</td>\n",
       "      <td>302</td>\n",
       "      <td>14</td>\n",
       "    </tr>\n",
       "    <tr>\n",
       "      <th>3</th>\n",
       "      <td>Sul</td>\n",
       "      <td>401</td>\n",
       "      <td>Energia Eolica</td>\n",
       "      <td>44056</td>\n",
       "      <td>306</td>\n",
       "      <td>0</td>\n",
       "      <td>20</td>\n",
       "      <td>6</td>\n",
       "      <td>1390</td>\n",
       "      <td>12</td>\n",
       "      <td>509</td>\n",
       "      <td>20</td>\n",
       "      <td>240</td>\n",
       "      <td>2</td>\n",
       "    </tr>\n",
       "    <tr>\n",
       "      <th>4</th>\n",
       "      <td>Sul</td>\n",
       "      <td>4376</td>\n",
       "      <td>Energia Eolica</td>\n",
       "      <td>8596</td>\n",
       "      <td>127</td>\n",
       "      <td>1</td>\n",
       "      <td>96</td>\n",
       "      <td>9</td>\n",
       "      <td>1976</td>\n",
       "      <td>11</td>\n",
       "      <td>909</td>\n",
       "      <td>28</td>\n",
       "      <td>323</td>\n",
       "      <td>2</td>\n",
       "    </tr>\n",
       "  </tbody>\n",
       "</table>\n",
       "</div>"
      ],
      "text/plain": [
       "         Regiao  Consumo    Tipo_Energia  Investimento  Area  Incentivo_Gov  \\\n",
       "0       Sudeste     1160  Energia Eolica         34926   473              1   \n",
       "1           Sul     2427  Energia Eolica         11229    68              0   \n",
       "2  Centro-Oeste     3520  Energia Eolica          9632    67              0   \n",
       "3           Sul      401  Energia Eolica         44056   306              0   \n",
       "4           Sul     4376  Energia Eolica          8596   127              1   \n",
       "\n",
       "   Taxa_Adocao  Tempo_Instalacao  Custo_Manutencao  Familias_Atendidas  \\\n",
       "0           93                 7              1777                   1   \n",
       "1           22                 5              1597                   3   \n",
       "2           68                 5               836                   1   \n",
       "3           20                 6              1390                  12   \n",
       "4           96                 9              1976                  11   \n",
       "\n",
       "   Reducoes_CO2  Vida_Util  Dias_Sol_Ano  Velocidade_Vento  \n",
       "0           345         16           346                 9  \n",
       "1           707         29           157                 5  \n",
       "2            64         27           302                14  \n",
       "3           509         20           240                 2  \n",
       "4           909         28           323                 2  "
      ]
     },
     "execution_count": 2,
     "metadata": {},
     "output_type": "execute_result"
    }
   ],
   "source": [
    "file_path = 'energialimpabrasil.csv'\n",
    "dataset = pd.read_csv(file_path, encoding='ISO-8859-1', delimiter=',')\n",
    "dataset.head()"
   ]
  },
  {
   "cell_type": "markdown",
   "metadata": {},
   "source": [
    "### Passo 3\n",
    "\n",
    "Temos em seguida um passo importante, onde vamos ver um resumo sobre os dados\n",
    "\n",
    "Vemos quantidade de colunas, linhas e o tipos de seus dados, e uma informação bem relevante, se existe dados vazios."
   ]
  },
  {
   "cell_type": "code",
   "execution_count": 3,
   "metadata": {},
   "outputs": [
    {
     "name": "stdout",
     "output_type": "stream",
     "text": [
      "<class 'pandas.core.frame.DataFrame'>\n",
      "RangeIndex: 300 entries, 0 to 299\n",
      "Data columns (total 14 columns):\n",
      " #   Column              Non-Null Count  Dtype \n",
      "---  ------              --------------  ----- \n",
      " 0   Regiao              300 non-null    object\n",
      " 1   Consumo             300 non-null    int64 \n",
      " 2   Tipo_Energia        300 non-null    object\n",
      " 3   Investimento        300 non-null    int64 \n",
      " 4   Area                300 non-null    int64 \n",
      " 5   Incentivo_Gov       300 non-null    int64 \n",
      " 6   Taxa_Adocao         300 non-null    int64 \n",
      " 7   Tempo_Instalacao    300 non-null    int64 \n",
      " 8   Custo_Manutencao    300 non-null    int64 \n",
      " 9   Familias_Atendidas  300 non-null    int64 \n",
      " 10  Reducoes_CO2        300 non-null    int64 \n",
      " 11  Vida_Util           300 non-null    int64 \n",
      " 12  Dias_Sol_Ano        300 non-null    int64 \n",
      " 13  Velocidade_Vento    300 non-null    int64 \n",
      "dtypes: int64(12), object(2)\n",
      "memory usage: 32.9+ KB\n"
     ]
    }
   ],
   "source": [
    "# Exibir informações básicas sobre o dataset como quantidade de colunas e linhas e seus tipos.\n",
    "dataset.info()\n"
   ]
  },
  {
   "cell_type": "markdown",
   "metadata": {},
   "source": [
    "## Aqui podemos observar os valores dos quartis da conluna Consumo."
   ]
  },
  {
   "cell_type": "code",
   "execution_count": 4,
   "metadata": {},
   "outputs": [
    {
     "data": {
      "text/html": [
       "<div>\n",
       "<style scoped>\n",
       "    .dataframe tbody tr th:only-of-type {\n",
       "        vertical-align: middle;\n",
       "    }\n",
       "\n",
       "    .dataframe tbody tr th {\n",
       "        vertical-align: top;\n",
       "    }\n",
       "\n",
       "    .dataframe thead th {\n",
       "        text-align: right;\n",
       "    }\n",
       "</style>\n",
       "<table border=\"1\" class=\"dataframe\">\n",
       "  <thead>\n",
       "    <tr style=\"text-align: right;\">\n",
       "      <th></th>\n",
       "      <th>count</th>\n",
       "      <th>mean</th>\n",
       "      <th>std</th>\n",
       "      <th>min</th>\n",
       "      <th>25%</th>\n",
       "      <th>50%</th>\n",
       "      <th>75%</th>\n",
       "      <th>max</th>\n",
       "    </tr>\n",
       "  </thead>\n",
       "  <tbody>\n",
       "    <tr>\n",
       "      <th>Consumo</th>\n",
       "      <td>300.0</td>\n",
       "      <td>2564.393333</td>\n",
       "      <td>1351.899884</td>\n",
       "      <td>104.0</td>\n",
       "      <td>1316.25</td>\n",
       "      <td>2738.0</td>\n",
       "      <td>3628.0</td>\n",
       "      <td>4969.0</td>\n",
       "    </tr>\n",
       "  </tbody>\n",
       "</table>\n",
       "</div>"
      ],
      "text/plain": [
       "         count         mean          std    min      25%     50%     75%  \\\n",
       "Consumo  300.0  2564.393333  1351.899884  104.0  1316.25  2738.0  3628.0   \n",
       "\n",
       "            max  \n",
       "Consumo  4969.0  "
      ]
     },
     "execution_count": 4,
     "metadata": {},
     "output_type": "execute_result"
    }
   ],
   "source": [
    "dataset[\"Consumo\"].describe().to_frame().T"
   ]
  },
  {
   "cell_type": "markdown",
   "metadata": {},
   "source": [
    "### Passo 4\n",
    "Agora que sabemos com o que estamos mexendo vamos fazer uma breve analise sobre o documento.\n",
    "\n",
    "Como de inicio vamos importar seeborn e matplotlib para facilitar nossa vizualição dos dados.\n",
    "\n",
    "Nossa análise tem como foco verifica a distribuição das energia limpas Eólica e Solar."
   ]
  },
  {
   "cell_type": "code",
   "execution_count": 5,
   "metadata": {},
   "outputs": [],
   "source": [
    "#Importação das bibliotecas\n",
    "import matplotlib.pyplot as plt\n",
    "import seaborn as sns"
   ]
  },
  {
   "cell_type": "markdown",
   "metadata": {},
   "source": [
    "### Primeira visão\n",
    "Nos gráficos abaixo temos a destribução total dessas energias por região, onde já é possivel se dizer e sudeste e norte tem maior investimento na área.\n",
    "\n",
    "Em sequência temos um gráfico de barras que nos diz que a energia solar tem maior investimento em relação a quantidade do que a eólica."
   ]
  },
  {
   "cell_type": "code",
   "execution_count": 6,
   "metadata": {},
   "outputs": [
    {
     "name": "stderr",
     "output_type": "stream",
     "text": [
      "C:\\Users\\Henrique\\AppData\\Local\\Temp\\ipykernel_22428\\3602880489.py:6: FutureWarning: \n",
      "\n",
      "Passing `palette` without assigning `hue` is deprecated and will be removed in v0.14.0. Assign the `x` variable to `hue` and set `legend=False` for the same effect.\n",
      "\n",
      "  sns.countplot(x=coluna, data=dataset, palette=\"viridis\", order=dataset[coluna].value_counts().index)\n"
     ]
    },
    {
     "data": {
      "image/png": "[encoded data removed]",
      "text/plain": [
       "<Figure size 600x400 with 1 Axes>"
      ]
     },
     "metadata": {},
     "output_type": "display_data"
    },
    {
     "name": "stderr",
     "output_type": "stream",
     "text": [
      "C:\\Users\\Henrique\\AppData\\Local\\Temp\\ipykernel_22428\\3602880489.py:6: FutureWarning: \n",
      "\n",
      "Passing `palette` without assigning `hue` is deprecated and will be removed in v0.14.0. Assign the `x` variable to `hue` and set `legend=False` for the same effect.\n",
      "\n",
      "  sns.countplot(x=coluna, data=dataset, palette=\"viridis\", order=dataset[coluna].value_counts().index)\n"
     ]
    },
    {
     "data": {
      "image/png": "[encoded data removed]",
      "text/plain": [
       "<Figure size 600x400 with 1 Axes>"
      ]
     },
     "metadata": {},
     "output_type": "display_data"
    }
   ],
   "source": [
    "colunas_categoricas = dataset.select_dtypes(include=['object']).columns\n",
    "\n",
    "# Gerar gráficos para cada coluna categórica\n",
    "for coluna in colunas_categoricas:\n",
    "    plt.figure(figsize=(6, 4))\n",
    "    sns.countplot(x=coluna, data=dataset, palette=\"viridis\", order=dataset[coluna].value_counts().index)\n",
    "    plt.title(f'Distribuição de {coluna}')\n",
    "    plt.xlabel(coluna)\n",
    "    plt.ylabel('Contagem')\n",
    "    plt.xticks(rotation=45)  # Rotacionar os rótulos do eixo X se necessário\n",
    "    plt.tight_layout()\n",
    "    plt.show()"
   ]
  },
  {
   "cell_type": "markdown",
   "metadata": {},
   "source": [
    "## Gráfico de Pizza\n",
    "\n",
    "### Afim de facilitar a visualização temos o gráfico acima de barras em pizza, facilitando ver o que foi apontado anteriormente."
   ]
  },
  {
   "cell_type": "code",
   "execution_count": 7,
   "metadata": {},
   "outputs": [
    {
     "data": {
      "image/png": "[encoded data removed]",
      "text/plain": [
       "<Figure size 800x800 with 1 Axes>"
      ]
     },
     "metadata": {},
     "output_type": "display_data"
    }
   ],
   "source": [
    "data_tipo_energia = dataset[\"Tipo_Energia\"].value_counts()\n",
    "plt.figure(figsize=(8, 8))\n",
    "plt.pie(data_tipo_energia, labels=data_tipo_energia.index, autopct=\"%1.1f%%\", startangle=140, colors=sns.color_palette(\"pastel\"))\n",
    "plt.title(\"Proporção de Tipos de Energia\", fontsize=16)\n",
    "plt.show()\n"
   ]
  },
  {
   "cell_type": "markdown",
   "metadata": {},
   "source": [
    "## Adoção de Energia limpa por região\n",
    "\n",
    "### Aqui temos uma visão interessante esse gráfico boxplot, podemos ver a distribução dos quartis.\n",
    "\n",
    "### Podemos ver que mesmo Sudeste com maior investimento não representa os maiores outliers, tendo, Norte, Nordeste e Centro-Oeste"
   ]
  },
  {
   "cell_type": "code",
   "execution_count": 8,
   "metadata": {},
   "outputs": [
    {
     "name": "stderr",
     "output_type": "stream",
     "text": [
      "C:\\Users\\Henrique\\AppData\\Local\\Temp\\ipykernel_22428\\1623866063.py:2: FutureWarning: \n",
      "\n",
      "Passing `palette` without assigning `hue` is deprecated and will be removed in v0.14.0. Assign the `x` variable to `hue` and set `legend=False` for the same effect.\n",
      "\n",
      "  sns.boxplot(data=dataset, x=\"Regiao\", y=\"Taxa_Adocao\", palette=\"Set2\")\n"
     ]
    },
    {
     "data": {
      "image/png": "[encoded data removed]",
      "text/plain": [
       "<Figure size 1000x600 with 1 Axes>"
      ]
     },
     "metadata": {},
     "output_type": "display_data"
    }
   ],
   "source": [
    "plt.figure(figsize=(10, 6))\n",
    "sns.boxplot(data=dataset, x=\"Regiao\", y=\"Taxa_Adocao\", palette=\"Set2\")\n",
    "plt.title(\"Comparação da Taxa de Adoção por Região\", fontsize=16)\n",
    "plt.xlabel(\"Região\", fontsize=12)\n",
    "plt.ylabel(\"Taxa de Adoção (%)\", fontsize=12)\n",
    "plt.xticks(rotation=45)\n",
    "plt.show()"
   ]
  },
  {
   "cell_type": "markdown",
   "metadata": {},
   "source": [
    "## Outro fator importante é a redução do CO2 com o uso das energias limpas.\n",
    "\n",
    "### podemos ver abaixo a atual situação, uma característica é a semelhança entre o investimento e a redução como estão relacionados."
   ]
  },
  {
   "cell_type": "code",
   "execution_count": 9,
   "metadata": {},
   "outputs": [
    {
     "name": "stderr",
     "output_type": "stream",
     "text": [
      "C:\\Users\\Henrique\\AppData\\Local\\Temp\\ipykernel_22428\\3771268641.py:2: FutureWarning: \n",
      "\n",
      "Passing `palette` without assigning `hue` is deprecated and will be removed in v0.14.0. Assign the `x` variable to `hue` and set `legend=False` for the same effect.\n",
      "\n",
      "  sns.boxplot(data=dataset, x=\"Regiao\", y=\"Reducoes_CO2\", palette=\"Set2\")\n"
     ]
    },
    {
     "data": {
      "image/png": "[encoded data removed]",
      "text/plain": [
       "<Figure size 1000x600 with 1 Axes>"
      ]
     },
     "metadata": {},
     "output_type": "display_data"
    }
   ],
   "source": [
    "plt.figure(figsize=(10, 6))\n",
    "sns.boxplot(data=dataset, x=\"Regiao\", y=\"Reducoes_CO2\", palette=\"Set2\")\n",
    "plt.title(\"Comparação das Reduções de CO₂ por Região\", fontsize=16)\n",
    "plt.xlabel(\"Região\", fontsize=12)\n",
    "plt.ylabel(\"Reduções de CO₂ (toneladas)\", fontsize=12)\n",
    "plt.xticks(rotation=45)\n",
    "plt.show()"
   ]
  },
  {
   "cell_type": "markdown",
   "metadata": {},
   "source": [
    "## E por quetão de curiosidade, temos o valor investido em cada energia.\n",
    "\n",
    "### Uma coisa interessante é que mesmo tendo um investimento maior em quantidade na energia solar, o valor de energia eólica tem em reais um valor maior.\n",
    "### podemos concluir que o investimento para a instalação dele seja maior."
   ]
  },
  {
   "cell_type": "code",
   "execution_count": 10,
   "metadata": {},
   "outputs": [
    {
     "name": "stderr",
     "output_type": "stream",
     "text": [
      "C:\\Users\\Henrique\\AppData\\Local\\Temp\\ipykernel_22428\\370369781.py:2: FutureWarning: \n",
      "\n",
      "Passing `palette` without assigning `hue` is deprecated and will be removed in v0.14.0. Assign the `x` variable to `hue` and set `legend=False` for the same effect.\n",
      "\n",
      "  sns.boxplot(data=dataset, x=\"Tipo_Energia\", y=\"Investimento\", palette=\"Set3\")\n"
     ]
    },
    {
     "data": {
      "image/png": "[encoded data removed]",
      "text/plain": [
       "<Figure size 1000x600 with 1 Axes>"
      ]
     },
     "metadata": {},
     "output_type": "display_data"
    }
   ],
   "source": [
    "plt.figure(figsize=(10, 6))\n",
    "sns.boxplot(data=dataset, x=\"Tipo_Energia\", y=\"Investimento\", palette=\"Set3\")\n",
    "plt.title(\"Distribuição do Investimento por Tipo de Energia\", fontsize=16)\n",
    "plt.xlabel(\"Tipo de Energia\", fontsize=12)\n",
    "plt.ylabel(\"Investimento (R$)\", fontsize=12)\n",
    "plt.xticks(rotation=45)\n",
    "plt.show()"
   ]
  },
  {
   "cell_type": "markdown",
   "metadata": {},
   "source": [
    "## Conclusão da Análise\n",
    "\n",
    "### O maior ponto a se citar aqui é que quanto maior o investimento nas energias limpas maior será a redução de CO2 emitido.\n",
    "### Assim podemos concluir que é uma opção para combater o aumento de C02 atual a instalação e o incentivo das energias limpas."
   ]
  },
  {
   "cell_type": "markdown",
   "metadata": {},
   "source": [
    "## Após a análise vamos iniciar o treinamento de uma IA\n",
    "\n",
    "### Onde será visto, Tipo de energia e a Redução do C02."
   ]
  },
  {
   "cell_type": "markdown",
   "metadata": {},
   "source": [
    "### Passo 1\n",
    "\n",
    "Separação dos dados para classificação\n",
    "\n",
    "Separação dos dados para regressão"
   ]
  },
  {
   "cell_type": "code",
   "execution_count": 11,
   "metadata": {},
   "outputs": [],
   "source": [
    "X_classificacao = dataset.drop(columns=['Tipo_Energia', 'Regiao'])\n",
    "y_classificacao = dataset['Tipo_Energia']\n",
    "\n",
    "\n",
    "X_regressao = dataset.drop(columns=['Tipo_Energia', 'Reducoes_CO2'])\n",
    "y_regressao = dataset['Reducoes_CO2']"
   ]
  },
  {
   "cell_type": "markdown",
   "metadata": {},
   "source": [
    "### Passo 2\n",
    "\n",
    " Codifica a variável categórica \"Regiao\" usando variáveis dummy para regressão"
   ]
  },
  {
   "cell_type": "code",
   "execution_count": 12,
   "metadata": {},
   "outputs": [],
   "source": [
    "X_regressao = pd.get_dummies(X_regressao, columns=['Regiao'], dtype=int)"
   ]
  },
  {
   "cell_type": "markdown",
   "metadata": {},
   "source": [
    "### Passo 3\n",
    "\n",
    "Divide os dados em conjuntos de treinamento e teste para classificação e regressão"
   ]
  },
  {
   "cell_type": "code",
   "execution_count": 13,
   "metadata": {},
   "outputs": [],
   "source": [
    "X_train_class, X_test_class, y_train_class, y_test_class = train_test_split(X_classificacao, y_classificacao, test_size=0.2, random_state=42)\n",
    "X_train_reg, X_test_reg, y_train_reg, y_test_reg = train_test_split(X_regressao, y_regressao, test_size=0.2, random_state=42)"
   ]
  },
  {
   "cell_type": "markdown",
   "metadata": {},
   "source": [
    "### Passo 4\n",
    "\n",
    "Normalização dos dados para classificação usando StandardScaler"
   ]
  },
  {
   "cell_type": "code",
   "execution_count": 14,
   "metadata": {},
   "outputs": [],
   "source": [
    "scaler_class = StandardScaler()\n",
    "X_train_scaled_reg = scaler_class.fit_transform(X_train_class)\n",
    "X_test_scaled_reg = scaler_class.transform(X_test_class)"
   ]
  },
  {
   "cell_type": "markdown",
   "metadata": {},
   "source": [
    "### Passo 5\n",
    "\n",
    "Importação do modelo de classificação SVC\n",
    "\n",
    "Avaliação do modelo de classificação"
   ]
  },
  {
   "cell_type": "code",
   "execution_count": 15,
   "metadata": {},
   "outputs": [
    {
     "name": "stdout",
     "output_type": "stream",
     "text": [
      "\n",
      "Relatório de Classificação:\n",
      "                precision    recall  f1-score   support\n",
      "\n",
      "Energia Eolica       0.44      0.44      0.44        25\n",
      " Energia Solar       0.60      0.60      0.60        35\n",
      "\n",
      "      accuracy                           0.53        60\n",
      "     macro avg       0.52      0.52      0.52        60\n",
      "  weighted avg       0.53      0.53      0.53        60\n",
      "\n",
      "Acurácia: 0.5333333333333333\n"
     ]
    }
   ],
   "source": [
    "from sklearn.svm import SVC\n",
    " \n",
    "modelo_classificacao = SVC(random_state=42)\n",
    "modelo_classificacao.fit(X_train_scaled_reg, y_train_class)\n",
    "\n",
    "y_pred_class = modelo_classificacao.predict(X_test_scaled_reg)\n",
    "print(\"\\nRelatório de Classificação:\")\n",
    "print(classification_report(y_test_class, y_pred_class))\n",
    "print(f\"Acurácia: {accuracy_score(y_test_class, y_pred_class)}\")"
   ]
  },
  {
   "cell_type": "markdown",
   "metadata": {},
   "source": [
    "### Passo 6\n",
    "\n",
    "Inicialização e treinamento do modelo de regressão\n",
    "\n",
    "Aplica o escalonamento (normalização) aos dados de treino e teste usando o StandardScaler.\n",
    "\n",
    "O modelo de regressão linear é treinado usando os dados escalonados de treino."
   ]
  },
  {
   "cell_type": "code",
   "execution_count": 16,
   "metadata": {},
   "outputs": [
    {
     "data": {
      "text/html": [
       "<style>#sk-container-id-1 {\n",
       "  /* Definition of color scheme common for light and dark mode */\n",
       "  --sklearn-color-text: black;\n",
       "  --sklearn-color-line: gray;\n",
       "  /* Definition of color scheme for unfitted estimators */\n",
       "  --sklearn-color-unfitted-level-0: #fff5e6;\n",
       "  --sklearn-color-unfitted-level-1: #f6e4d2;\n",
       "  --sklearn-color-unfitted-level-2: #ffe0b3;\n",
       "  --sklearn-color-unfitted-level-3: chocolate;\n",
       "  /* Definition of color scheme for fitted estimators */\n",
       "  --sklearn-color-fitted-level-0: #f0f8ff;\n",
       "  --sklearn-color-fitted-level-1: #d4ebff;\n",
       "  --sklearn-color-fitted-level-2: #b3dbfd;\n",
       "  --sklearn-color-fitted-level-3: cornflowerblue;\n",
       "\n",
       "  /* Specific color for light theme */\n",
       "  --sklearn-color-text-on-default-background: var(--sg-text-color, var(--theme-code-foreground, var(--jp-content-font-color1, black)));\n",
       "  --sklearn-color-background: var(--sg-background-color, var(--theme-background, var(--jp-layout-color0, white)));\n",
       "  --sklearn-color-border-box: var(--sg-text-color, var(--theme-code-foreground, var(--jp-content-font-color1, black)));\n",
       "  --sklearn-color-icon: #696969;\n",
       "\n",
       "  @media (prefers-color-scheme: dark) {\n",
       "    /* Redefinition of color scheme for dark theme */\n",
       "    --sklearn-color-text-on-default-background: var(--sg-text-color, var(--theme-code-foreground, var(--jp-content-font-color1, white)));\n",
       "    --sklearn-color-background: var(--sg-background-color, var(--theme-background, var(--jp-layout-color0, #111)));\n",
       "    --sklearn-color-border-box: var(--sg-text-color, var(--theme-code-foreground, var(--jp-content-font-color1, white)));\n",
       "    --sklearn-color-icon: #878787;\n",
       "  }\n",
       "}\n",
       "\n",
       "#sk-container-id-1 {\n",
       "  color: var(--sklearn-color-text);\n",
       "}\n",
       "\n",
       "#sk-container-id-1 pre {\n",
       "  padding: 0;\n",
       "}\n",
       "\n",
       "#sk-container-id-1 input.sk-hidden--visually {\n",
       "  border: 0;\n",
       "  clip: rect(1px 1px 1px 1px);\n",
       "  clip: rect(1px, 1px, 1px, 1px);\n",
       "  height: 1px;\n",
       "  margin: -1px;\n",
       "  overflow: hidden;\n",
       "  padding: 0;\n",
       "  position: absolute;\n",
       "  width: 1px;\n",
       "}\n",
       "\n",
       "#sk-container-id-1 div.sk-dashed-wrapped {\n",
       "  border: 1px dashed var(--sklearn-color-line);\n",
       "  margin: 0 0.4em 0.5em 0.4em;\n",
       "  box-sizing: border-box;\n",
       "  padding-bottom: 0.4em;\n",
       "  background-color: var(--sklearn-color-background);\n",
       "}\n",
       "\n",
       "#sk-container-id-1 div.sk-container {\n",
       "  /* jupyter's `normalize.less` sets `[hidden] { display: none; }`\n",
       "     but bootstrap.min.css set `[hidden] { display: none !important; }`\n",
       "     so we also need the `!important` here to be able to override the\n",
       "     default hidden behavior on the sphinx rendered scikit-learn.org.\n",
       "     See: https://github.com/scikit-learn/scikit-learn/issues/21755 */\n",
       "  display: inline-block !important;\n",
       "  position: relative;\n",
       "}\n",
       "\n",
       "#sk-container-id-1 div.sk-text-repr-fallback {\n",
       "  display: none;\n",
       "}\n",
       "\n",
       "div.sk-parallel-item,\n",
       "div.sk-serial,\n",
       "div.sk-item {\n",
       "  /* draw centered vertical line to link estimators */\n",
       "  background-image: linear-gradient(var(--sklearn-color-text-on-default-background), var(--sklearn-color-text-on-default-background));\n",
       "  background-size: 2px 100%;\n",
       "  background-repeat: no-repeat;\n",
       "  background-position: center center;\n",
       "}\n",
       "\n",
       "/* Parallel-specific style estimator block */\n",
       "\n",
       "#sk-container-id-1 div.sk-parallel-item::after {\n",
       "  content: \"\";\n",
       "  width: 100%;\n",
       "  border-bottom: 2px solid var(--sklearn-color-text-on-default-background);\n",
       "  flex-grow: 1;\n",
       "}\n",
       "\n",
       "#sk-container-id-1 div.sk-parallel {\n",
       "  display: flex;\n",
       "  align-items: stretch;\n",
       "  justify-content: center;\n",
       "  background-color: var(--sklearn-color-background);\n",
       "  position: relative;\n",
       "}\n",
       "\n",
       "#sk-container-id-1 div.sk-parallel-item {\n",
       "  display: flex;\n",
       "  flex-direction: column;\n",
       "}\n",
       "\n",
       "#sk-container-id-1 div.sk-parallel-item:first-child::after {\n",
       "  align-self: flex-end;\n",
       "  width: 50%;\n",
       "}\n",
       "\n",
       "#sk-container-id-1 div.sk-parallel-item:last-child::after {\n",
       "  align-self: flex-start;\n",
       "  width: 50%;\n",
       "}\n",
       "\n",
       "#sk-container-id-1 div.sk-parallel-item:only-child::after {\n",
       "  width: 0;\n",
       "}\n",
       "\n",
       "/* Serial-specific style estimator block */\n",
       "\n",
       "#sk-container-id-1 div.sk-serial {\n",
       "  display: flex;\n",
       "  flex-direction: column;\n",
       "  align-items: center;\n",
       "  background-color: var(--sklearn-color-background);\n",
       "  padding-right: 1em;\n",
       "  padding-left: 1em;\n",
       "}\n",
       "\n",
       "\n",
       "/* Toggleable style: style used for estimator/Pipeline/ColumnTransformer box that is\n",
       "clickable and can be expanded/collapsed.\n",
       "- Pipeline and ColumnTransformer use this feature and define the default style\n",
       "- Estimators will overwrite some part of the style using the `sk-estimator` class\n",
       "*/\n",
       "\n",
       "/* Pipeline and ColumnTransformer style (default) */\n",
       "\n",
       "#sk-container-id-1 div.sk-toggleable {\n",
       "  /* Default theme specific background. It is overwritten whether we have a\n",
       "  specific estimator or a Pipeline/ColumnTransformer */\n",
       "  background-color: var(--sklearn-color-background);\n",
       "}\n",
       "\n",
       "/* Toggleable label */\n",
       "#sk-container-id-1 label.sk-toggleable__label {\n",
       "  cursor: pointer;\n",
       "  display: block;\n",
       "  width: 100%;\n",
       "  margin-bottom: 0;\n",
       "  padding: 0.5em;\n",
       "  box-sizing: border-box;\n",
       "  text-align: center;\n",
       "}\n",
       "\n",
       "#sk-container-id-1 label.sk-toggleable__label-arrow:before {\n",
       "  /* Arrow on the left of the label */\n",
       "  content: \"▸\";\n",
       "  float: left;\n",
       "  margin-right: 0.25em;\n",
       "  color: var(--sklearn-color-icon);\n",
       "}\n",
       "\n",
       "#sk-container-id-1 label.sk-toggleable__label-arrow:hover:before {\n",
       "  color: var(--sklearn-color-text);\n",
       "}\n",
       "\n",
       "/* Toggleable content - dropdown */\n",
       "\n",
       "#sk-container-id-1 div.sk-toggleable__content {\n",
       "  max-height: 0;\n",
       "  max-width: 0;\n",
       "  overflow: hidden;\n",
       "  text-align: left;\n",
       "  /* unfitted */\n",
       "  background-color: var(--sklearn-color-unfitted-level-0);\n",
       "}\n",
       "\n",
       "#sk-container-id-1 div.sk-toggleable__content.fitted {\n",
       "  /* fitted */\n",
       "  background-color: var(--sklearn-color-fitted-level-0);\n",
       "}\n",
       "\n",
       "#sk-container-id-1 div.sk-toggleable__content pre {\n",
       "  margin: 0.2em;\n",
       "  border-radius: 0.25em;\n",
       "  color: var(--sklearn-color-text);\n",
       "  /* unfitted */\n",
       "  background-color: var(--sklearn-color-unfitted-level-0);\n",
       "}\n",
       "\n",
       "#sk-container-id-1 div.sk-toggleable__content.fitted pre {\n",
       "  /* unfitted */\n",
       "  background-color: var(--sklearn-color-fitted-level-0);\n",
       "}\n",
       "\n",
       "#sk-container-id-1 input.sk-toggleable__control:checked~div.sk-toggleable__content {\n",
       "  /* Expand drop-down */\n",
       "  max-height: 200px;\n",
       "  max-width: 100%;\n",
       "  overflow: auto;\n",
       "}\n",
       "\n",
       "#sk-container-id-1 input.sk-toggleable__control:checked~label.sk-toggleable__label-arrow:before {\n",
       "  content: \"▾\";\n",
       "}\n",
       "\n",
       "/* Pipeline/ColumnTransformer-specific style */\n",
       "\n",
       "#sk-container-id-1 div.sk-label input.sk-toggleable__control:checked~label.sk-toggleable__label {\n",
       "  color: var(--sklearn-color-text);\n",
       "  background-color: var(--sklearn-color-unfitted-level-2);\n",
       "}\n",
       "\n",
       "#sk-container-id-1 div.sk-label.fitted input.sk-toggleable__control:checked~label.sk-toggleable__label {\n",
       "  background-color: var(--sklearn-color-fitted-level-2);\n",
       "}\n",
       "\n",
       "/* Estimator-specific style */\n",
       "\n",
       "/* Colorize estimator box */\n",
       "#sk-container-id-1 div.sk-estimator input.sk-toggleable__control:checked~label.sk-toggleable__label {\n",
       "  /* unfitted */\n",
       "  background-color: var(--sklearn-color-unfitted-level-2);\n",
       "}\n",
       "\n",
       "#sk-container-id-1 div.sk-estimator.fitted input.sk-toggleable__control:checked~label.sk-toggleable__label {\n",
       "  /* fitted */\n",
       "  background-color: var(--sklearn-color-fitted-level-2);\n",
       "}\n",
       "\n",
       "#sk-container-id-1 div.sk-label label.sk-toggleable__label,\n",
       "#sk-container-id-1 div.sk-label label {\n",
       "  /* The background is the default theme color */\n",
       "  color: var(--sklearn-color-text-on-default-background);\n",
       "}\n",
       "\n",
       "/* On hover, darken the color of the background */\n",
       "#sk-container-id-1 div.sk-label:hover label.sk-toggleable__label {\n",
       "  color: var(--sklearn-color-text);\n",
       "  background-color: var(--sklearn-color-unfitted-level-2);\n",
       "}\n",
       "\n",
       "/* Label box, darken color on hover, fitted */\n",
       "#sk-container-id-1 div.sk-label.fitted:hover label.sk-toggleable__label.fitted {\n",
       "  color: var(--sklearn-color-text);\n",
       "  background-color: var(--sklearn-color-fitted-level-2);\n",
       "}\n",
       "\n",
       "/* Estimator label */\n",
       "\n",
       "#sk-container-id-1 div.sk-label label {\n",
       "  font-family: monospace;\n",
       "  font-weight: bold;\n",
       "  display: inline-block;\n",
       "  line-height: 1.2em;\n",
       "}\n",
       "\n",
       "#sk-container-id-1 div.sk-label-container {\n",
       "  text-align: center;\n",
       "}\n",
       "\n",
       "/* Estimator-specific */\n",
       "#sk-container-id-1 div.sk-estimator {\n",
       "  font-family: monospace;\n",
       "  border: 1px dotted var(--sklearn-color-border-box);\n",
       "  border-radius: 0.25em;\n",
       "  box-sizing: border-box;\n",
       "  margin-bottom: 0.5em;\n",
       "  /* unfitted */\n",
       "  background-color: var(--sklearn-color-unfitted-level-0);\n",
       "}\n",
       "\n",
       "#sk-container-id-1 div.sk-estimator.fitted {\n",
       "  /* fitted */\n",
       "  background-color: var(--sklearn-color-fitted-level-0);\n",
       "}\n",
       "\n",
       "/* on hover */\n",
       "#sk-container-id-1 div.sk-estimator:hover {\n",
       "  /* unfitted */\n",
       "  background-color: var(--sklearn-color-unfitted-level-2);\n",
       "}\n",
       "\n",
       "#sk-container-id-1 div.sk-estimator.fitted:hover {\n",
       "  /* fitted */\n",
       "  background-color: var(--sklearn-color-fitted-level-2);\n",
       "}\n",
       "\n",
       "/* Specification for estimator info (e.g. \"i\" and \"?\") */\n",
       "\n",
       "/* Common style for \"i\" and \"?\" */\n",
       "\n",
       ".sk-estimator-doc-link,\n",
       "a:link.sk-estimator-doc-link,\n",
       "a:visited.sk-estimator-doc-link {\n",
       "  float: right;\n",
       "  font-size: smaller;\n",
       "  line-height: 1em;\n",
       "  font-family: monospace;\n",
       "  background-color: var(--sklearn-color-background);\n",
       "  border-radius: 1em;\n",
       "  height: 1em;\n",
       "  width: 1em;\n",
       "  text-decoration: none !important;\n",
       "  margin-left: 1ex;\n",
       "  /* unfitted */\n",
       "  border: var(--sklearn-color-unfitted-level-1) 1pt solid;\n",
       "  color: var(--sklearn-color-unfitted-level-1);\n",
       "}\n",
       "\n",
       ".sk-estimator-doc-link.fitted,\n",
       "a:link.sk-estimator-doc-link.fitted,\n",
       "a:visited.sk-estimator-doc-link.fitted {\n",
       "  /* fitted */\n",
       "  border: var(--sklearn-color-fitted-level-1) 1pt solid;\n",
       "  color: var(--sklearn-color-fitted-level-1);\n",
       "}\n",
       "\n",
       "/* On hover */\n",
       "div.sk-estimator:hover .sk-estimator-doc-link:hover,\n",
       ".sk-estimator-doc-link:hover,\n",
       "div.sk-label-container:hover .sk-estimator-doc-link:hover,\n",
       ".sk-estimator-doc-link:hover {\n",
       "  /* unfitted */\n",
       "  background-color: var(--sklearn-color-unfitted-level-3);\n",
       "  color: var(--sklearn-color-background);\n",
       "  text-decoration: none;\n",
       "}\n",
       "\n",
       "div.sk-estimator.fitted:hover .sk-estimator-doc-link.fitted:hover,\n",
       ".sk-estimator-doc-link.fitted:hover,\n",
       "div.sk-label-container:hover .sk-estimator-doc-link.fitted:hover,\n",
       ".sk-estimator-doc-link.fitted:hover {\n",
       "  /* fitted */\n",
       "  background-color: var(--sklearn-color-fitted-level-3);\n",
       "  color: var(--sklearn-color-background);\n",
       "  text-decoration: none;\n",
       "}\n",
       "\n",
       "/* Span, style for the box shown on hovering the info icon */\n",
       ".sk-estimator-doc-link span {\n",
       "  display: none;\n",
       "  z-index: 9999;\n",
       "  position: relative;\n",
       "  font-weight: normal;\n",
       "  right: .2ex;\n",
       "  padding: .5ex;\n",
       "  margin: .5ex;\n",
       "  width: min-content;\n",
       "  min-width: 20ex;\n",
       "  max-width: 50ex;\n",
       "  color: var(--sklearn-color-text);\n",
       "  box-shadow: 2pt 2pt 4pt #999;\n",
       "  /* unfitted */\n",
       "  background: var(--sklearn-color-unfitted-level-0);\n",
       "  border: .5pt solid var(--sklearn-color-unfitted-level-3);\n",
       "}\n",
       "\n",
       ".sk-estimator-doc-link.fitted span {\n",
       "  /* fitted */\n",
       "  background: var(--sklearn-color-fitted-level-0);\n",
       "  border: var(--sklearn-color-fitted-level-3);\n",
       "}\n",
       "\n",
       ".sk-estimator-doc-link:hover span {\n",
       "  display: block;\n",
       "}\n",
       "\n",
       "/* \"?\"-specific style due to the `<a>` HTML tag */\n",
       "\n",
       "#sk-container-id-1 a.estimator_doc_link {\n",
       "  float: right;\n",
       "  font-size: 1rem;\n",
       "  line-height: 1em;\n",
       "  font-family: monospace;\n",
       "  background-color: var(--sklearn-color-background);\n",
       "  border-radius: 1rem;\n",
       "  height: 1rem;\n",
       "  width: 1rem;\n",
       "  text-decoration: none;\n",
       "  /* unfitted */\n",
       "  color: var(--sklearn-color-unfitted-level-1);\n",
       "  border: var(--sklearn-color-unfitted-level-1) 1pt solid;\n",
       "}\n",
       "\n",
       "#sk-container-id-1 a.estimator_doc_link.fitted {\n",
       "  /* fitted */\n",
       "  border: var(--sklearn-color-fitted-level-1) 1pt solid;\n",
       "  color: var(--sklearn-color-fitted-level-1);\n",
       "}\n",
       "\n",
       "/* On hover */\n",
       "#sk-container-id-1 a.estimator_doc_link:hover {\n",
       "  /* unfitted */\n",
       "  background-color: var(--sklearn-color-unfitted-level-3);\n",
       "  color: var(--sklearn-color-background);\n",
       "  text-decoration: none;\n",
       "}\n",
       "\n",
       "#sk-container-id-1 a.estimator_doc_link.fitted:hover {\n",
       "  /* fitted */\n",
       "  background-color: var(--sklearn-color-fitted-level-3);\n",
       "}\n",
       "</style><div id=\"sk-container-id-1\" class=\"sk-top-container\"><div class=\"sk-text-repr-fallback\"><pre>LinearRegression()</pre><b>In a Jupyter environment, please rerun this cell to show the HTML representation or trust the notebook. <br />On GitHub, the HTML representation is unable to render, please try loading this page with nbviewer.org.</b></div><div class=\"sk-container\" hidden><div class=\"sk-item\"><div class=\"sk-estimator fitted sk-toggleable\"><input class=\"sk-toggleable__control sk-hidden--visually\" id=\"sk-estimator-id-1\" type=\"checkbox\" checked><label for=\"sk-estimator-id-1\" class=\"sk-toggleable__label fitted sk-toggleable__label-arrow fitted\">&nbsp;&nbsp;LinearRegression<a class=\"sk-estimator-doc-link fitted\" rel=\"noreferrer\" target=\"_blank\" href=\"https://scikit-learn.org/1.5/modules/generated/sklearn.linear_model.LinearRegression.html\">?<span>Documentation for LinearRegression</span></a><span class=\"sk-estimator-doc-link fitted\">i<span>Fitted</span></span></label><div class=\"sk-toggleable__content fitted\"><pre>LinearRegression()</pre></div> </div></div></div></div>"
      ],
      "text/plain": [
       "LinearRegression()"
      ]
     },
     "execution_count": 16,
     "metadata": {},
     "output_type": "execute_result"
    }
   ],
   "source": [
    "from sklearn.preprocessing import OneHotEncoder, StandardScaler\n",
    "from sklearn.linear_model import LinearRegression\n",
    "\n",
    "scaler_reg = StandardScaler()\n",
    "X_train_scaled_reg = scaler_reg.fit_transform(X_train_reg)\n",
    "X_test_scaled_reg = scaler_reg.transform(X_test_reg)\n",
    "\n",
    "modelo_regressao = LinearRegression()\n",
    "modelo_regressao.fit(X_train_scaled_reg, y_train_reg)\n"
   ]
  },
  {
   "cell_type": "markdown",
   "metadata": {},
   "source": [
    "### Passo 8\n",
    "\n",
    "Avaliação do modelo de regressão\n",
    "\n",
    "Calcula o score (R²) do modelo de regressão, que mede a qualidade do ajuste ao conjunto de teste."
   ]
  },
  {
   "cell_type": "code",
   "execution_count": 17,
   "metadata": {},
   "outputs": [
    {
     "data": {
      "text/plain": [
       "-0.1184717224203633"
      ]
     },
     "execution_count": 17,
     "metadata": {},
     "output_type": "execute_result"
    }
   ],
   "source": [
    "score_reg = modelo_regressao.score(X_test_scaled_reg, y_test_reg)\n",
    "score_reg"
   ]
  },
  {
   "cell_type": "markdown",
   "metadata": {},
   "source": [
    "### Passo 9\n",
    "\n",
    "Salvamento dos modelos e escaladores\n",
    "\n",
    "Salva os modelos de classificação e regressão, bem como os escaladores associados, \n",
    "para que possam ser carregados e utilizados posteriormente para predições com novos dados."
   ]
  },
  {
   "cell_type": "code",
   "execution_count": 18,
   "metadata": {},
   "outputs": [
    {
     "data": {
      "text/plain": [
       "['scaler_reg.pkl']"
      ]
     },
     "execution_count": 18,
     "metadata": {},
     "output_type": "execute_result"
    }
   ],
   "source": [
    "joblib.dump(modelo_classificacao, 'modelo_classificacao.pkl')\n",
    "joblib.dump(modelo_regressao, 'modelo_regressao.pkl')\n",
    "joblib.dump(scaler_class, 'scaler_class.pkl')\n",
    "joblib.dump(scaler_reg, 'scaler_reg.pkl')"
   ]
  },
  {
   "cell_type": "markdown",
   "metadata": {},
   "source": [
    "### Passo 10\n",
    "\n",
    "Este código tem como objetivo realizar a predição do tipo de energia de um novo projeto de energia, baseado em diversas variáveis fornecidas. O fluxo do código pode ser dividido nas seguintes etapas principais:\n",
    "\n",
    "Preparação dos dados de entrada, Transformação das variáveis categóricas, Alinhamento das colunas, Normalização dos dados, Predição, Exibição do resultado.\n",
    "\n",
    "Esse código usa um modelo de classificação para prever o tipo de energia de um projeto com base em informações como consumo, investimento, área da instalação, taxa de adoção de energia eólica, entre outras variáveis. Ele prepara os dados de entrada, faz as transformações necessárias, normaliza e então aplica o modelo para gerar a predição."
   ]
  },
  {
   "cell_type": "code",
   "execution_count": 19,
   "metadata": {},
   "outputs": [
    {
     "name": "stdout",
     "output_type": "stream",
     "text": [
      "Predição do tipo de energia: Energia Solar\n"
     ]
    }
   ],
   "source": [
    "nova_entrada = {\n",
    "    'Qual a região de implementação do projeto de energia?': 'Sudeste',\n",
    "    'Qual o consumo de energia na região?': '1160',\n",
    "    'Qual o tipo de energia utilizado no projeto?': 'Energia Eolica',\n",
    "    'Qual o investimento inicial para o projeto?': '34926',\n",
    "    'Qual a área da instalação em metros quadrados?': '473',\n",
    "    'Há incentivo do governo para o projeto?': '1',\n",
    "    'Qual a taxa de adoção de energia eólica?': '93',\n",
    "    'Qual o tempo médio de instalação do projeto?': '7',\n",
    "    'Qual o custo de manutenção anual do projeto?': '1777',\n",
    "    'Quantas famílias são atendidas pelo projeto?': '1',\n",
    "    'Qual a redução de CO2 gerada pelo projeto?': '',\n",
    "    'Qual a vida útil do projeto?': '16',\n",
    "    'Quantos dias de sol há por ano na região?': '346',\n",
    "    'Qual a velocidade média do vento na região?': '9'\n",
    "}\n",
    "\n",
    "nova_entrada_df = pd.DataFrame([nova_entrada])\n",
    " \n",
    "\n",
    "# Selecionar apenas as colunas relevantes para classificação (excluindo as categóricas que precisam de transformação)\n",
    "colunas_classificacao = [\n",
    "    'Qual o consumo de energia na região?',\n",
    "    'Qual o investimento inicial para o projeto?',\n",
    "    'Qual a área da instalação em metros quadrados?',\n",
    "    'Há incentivo do governo para o projeto?',\n",
    "    'Qual a taxa de adoção de energia eólica?',\n",
    "    'Qual o tempo médio de instalação do projeto?',\n",
    "    'Qual o custo de manutenção anual do projeto?',\n",
    "    'Quantas famílias são atendidas pelo projeto?',\n",
    "    'Qual a vida útil do projeto?',\n",
    "    'Quantos dias de sol há por ano na região?',\n",
    "    'Qual a velocidade média do vento na região?',\n",
    "]\n",
    "\n",
    "# Adicionar a codificação para 'Regiao', caso tenha sido usada no treinamento\n",
    "X_nova_classificacao = nova_entrada_df.copy()\n",
    "X_nova_classificacao = pd.get_dummies(X_nova_classificacao, columns=['Qual a região de implementação do projeto de energia?'], dtype=int)\n",
    "\n",
    "# Garantir que as colunas estão alinhadas com o conjunto de treinamento\n",
    "faltando = set(scaler_class.feature_names_in_) - set(X_nova_classificacao.columns)\n",
    "for col in faltando:\n",
    "    X_nova_classificacao[col] = 0  # Preencher as colunas ausentes com 0\n",
    "\n",
    "# Reordenar as colunas para corresponder ao treinamento\n",
    "X_nova_classificacao = X_nova_classificacao[scaler_class.feature_names_in_]\n",
    "\n",
    "# Normalizar os dados usando o escalador salvo\n",
    "X_nova_classificacao_scaled = scaler_class.transform(X_nova_classificacao)\n",
    "\n",
    "# Fazer a predição\n",
    "predicao_classificacao = modelo_classificacao.predict(X_nova_classificacao_scaled)\n",
    "\n",
    "print(f\"Predição do tipo de energia: {predicao_classificacao[0]}\")\n"
   ]
  },
  {
   "cell_type": "markdown",
   "metadata": {},
   "source": [
    "### Passo 11\n",
    "\n",
    "Este código tem como objetivo realizar a predição de uma variável contínua (redução de CO2) de um novo projeto de energia, com base em diversas variáveis fornecidas. O fluxo do código pode ser descrito nas etapas abaixo:\n",
    "\n",
    "Carregamento dos modelos e escaladores salvos, Definição dos dados da nova entrada, Conversão dos dados em DataFrame, Codificação da variável categórica 'Região', Alinhamento das colunas de entrada com o conjunto de treinamento, Reordenamento das colunas, Normalização dos dados de entrada, Predição, Exibição do resultado.\n",
    "\n",
    "Esse código usa um modelo de regressão para prever a redução de CO2 de um projeto de energia com base em diversas características do projeto, como consumo, investimento, área da instalação, taxa de adoção de energia eólica, e outras variáveis. Ele prepara os dados de entrada (transformando variáveis categóricas, normalizando os dados e alinhando as colunas), aplica o modelo treinado e exibe a predição da redução de CO2 gerada pelo projeto."
   ]
  },
  {
   "cell_type": "code",
   "execution_count": 20,
   "metadata": {},
   "outputs": [
    {
     "name": "stdout",
     "output_type": "stream",
     "text": [
      "Predição da redução de CO2: 475.1840637721416\n"
     ]
    }
   ],
   "source": [
    "# Carregar o modelo de regressão e o escalador salvos\n",
    "modelo_regressao = joblib.load('modelo_regressao.pkl')\n",
    "scaler_reg = joblib.load('scaler_reg.pkl')\n",
    "\n",
    "# Dados da nova entrada\n",
    "nova_entrada_regressao = {\n",
    "    'Qual a região de implementação do projeto de energia?': 'Sudeste',\n",
    "    'Qual o consumo de energia na região?': 1160,\n",
    "    'Qual o investimento inicial para o projeto?': 1000,\n",
    "    'Qual a área da instalação em metros quadrados?': 473,\n",
    "    'Há incentivo do governo para o projeto?': 1,\n",
    "    'Qual a taxa de adoção de energia eólica?': 93,\n",
    "    'Qual o tempo médio de instalação do projeto?': 7,\n",
    "    'Qual o custo de manutenção anual do projeto?': 2000,\n",
    "    'Quantas famílias são atendidas pelo projeto?': 1,\n",
    "    'Qual a vida útil do projeto?': 16,\n",
    "    'Quantos dias de sol há por ano na região?': 346,\n",
    "    'Qual a velocidade média do vento na região?': 9\n",
    "}\n",
    "\n",
    "# Converter para DataFrame\n",
    "nova_entrada_regressao_df = pd.DataFrame([nova_entrada_regressao])\n",
    "\n",
    "# Preparar os dados de entrada para regressão\n",
    "# Codificar 'Regiao' como dummies\n",
    "X_nova_regressao = pd.get_dummies(nova_entrada_regressao_df, columns=['Qual a região de implementação do projeto de energia?'], dtype=int)\n",
    "\n",
    "# Garantir que as colunas estão alinhadas com o conjunto de treinamento\n",
    "faltando = set(scaler_reg.feature_names_in_) - set(X_nova_regressao.columns)\n",
    "for col in faltando:\n",
    "    X_nova_regressao[col] = 0  # Preencher as colunas ausentes com 0\n",
    "\n",
    "# Reordenar as colunas para corresponder ao treinamento\n",
    "X_nova_regressao = X_nova_regressao[scaler_reg.feature_names_in_]\n",
    "\n",
    "# Normalizar os dados usando o escalador salvo\n",
    "X_nova_regressao_scaled = scaler_reg.transform(X_nova_regressao)\n",
    "\n",
    "# Fazer a predição\n",
    "predicao_regressao = modelo_regressao.predict(X_nova_regressao_scaled)\n",
    "\n",
    "print(f\"Predição da redução de CO2: {predicao_regressao[0]}\")\n"
   ]
  }
 ],
 "metadata": {
  "kernelspec": {
   "display_name": "Python 3",
   "language": "python",
   "name": "python3"
  },
  "language_info": {
   "codemirror_mode": {
    "name": "ipython",
    "version": 3
   },
   "file_extension": ".py",
   "mimetype": "text/x-python",
   "name": "python",
   "nbconvert_exporter": "python",
   "pygments_lexer": "ipython3",
   "version": "3.11.9"
  }
 },
 "nbformat": 4,
 "nbformat_minor": 2
}
